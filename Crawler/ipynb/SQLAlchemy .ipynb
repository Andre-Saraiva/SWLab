{
 "cells": [
  {
   "cell_type": "code",
   "execution_count": 1,
   "metadata": {
    "collapsed": true
   },
   "outputs": [],
   "source": [
    "from sqlalchemy import create_engine, Table, MetaData, Column\n",
    "from sqlalchemy import Integer, String, DateTime, Boolean\n",
    "from sqlalchemy import ForeignKey, ForeignKeyConstraint"
   ]
  },
  {
   "cell_type": "code",
   "execution_count": 2,
   "metadata": {
    "collapsed": true
   },
   "outputs": [],
   "source": [
    "import logging\n",
    "logging.basicConfig()\n",
    "logging.getLogger('sqlalchemy.engine').setLevel(logging.INFO)"
   ]
  },
  {
   "cell_type": "code",
   "execution_count": 3,
   "metadata": {
    "collapsed": false
   },
   "outputs": [],
   "source": [
    "USER = \"postgres\"\n",
    "PASSWORD = \"postgres\"\n",
    "HOST = \"\"\n",
    "DATABASE = \"swlab\"\n",
    "\n",
    "\n",
    "engine = create_engine(\"postgresql+psycopg2://{}:{}@{}/{}\".format(USER, PASSWORD, HOST, DATABASE), client_encoding=\"utf8\")"
   ]
  },
  {
   "cell_type": "code",
   "execution_count": 4,
   "metadata": {
    "collapsed": true
   },
   "outputs": [],
   "source": [
    "metadata = MetaData()\n",
    "metadata.bind = engine"
   ]
  },
  {
   "cell_type": "code",
   "execution_count": 5,
   "metadata": {
    "collapsed": true
   },
   "outputs": [],
   "source": [
    "types = Table(\n",
    "    'types', metadata,\n",
    "    Column('type_id', Integer, primary_key=True),\n",
    "    Column('name', String(45))\n",
    ")"
   ]
  },
  {
   "cell_type": "code",
   "execution_count": 6,
   "metadata": {
    "collapsed": false
   },
   "outputs": [],
   "source": [
    "features = Table(\n",
    "    'features', metadata,\n",
    "    Column('feature_id', Integer, primary_key=True),\n",
    "    Column('namespace', String(255)),\n",
    "    Column('type_id', Integer, nullable=False),\n",
    "    ForeignKeyConstraint(['type_id'], [types.c.type_id], \n",
    "                         name='fk_features_types',\n",
    "                         ondelete='NO ACTION', onupdate='NO ACTION')\n",
    ")"
   ]
  },
  {
   "cell_type": "code",
   "execution_count": 7,
   "metadata": {
    "collapsed": false
   },
   "outputs": [],
   "source": [
    "datasets = Table(\n",
    "    'datasets', metadata,\n",
    "    Column('feature_id', Integer, primary_key=True),\n",
    "    Column('meta', String(45)),\n",
    "    Column('meta_id', String(45)),\n",
    "    Column('meta_url', String(255)),\n",
    "    Column('name', String(45)),\n",
    "    Column('url', String(255)),\n",
    "    Column('created_at', DateTime),\n",
    "    Column('modified_at', DateTime),\n",
    "    ForeignKeyConstraint(['feature_id'], [features.c.feature_id], \n",
    "                         name='fk_datasets_features',\n",
    "                         ondelete='NO ACTION', onupdate='NO ACTION')\n",
    ")"
   ]
  },
  {
   "cell_type": "code",
   "execution_count": 8,
   "metadata": {
    "collapsed": true
   },
   "outputs": [],
   "source": [
    "resources = Table(\n",
    "    'resources', metadata,\n",
    "    Column('resource_id', Integer, primary_key=True),\n",
    "    Column('format', String(45)),\n",
    "    Column('url', String(255)),\n",
    "    Column('source', String(255)),\n",
    "    Column('description', String(255)),\n",
    "    Column('is_online', Boolean),\n",
    "    Column('feature_id', Integer),\n",
    "    ForeignKeyConstraint(['feature_id'], [datasets.c.feature_id], \n",
    "                         name='fk_resources_datasets',\n",
    "                         ondelete='NO ACTION', onupdate='NO ACTION')\n",
    ")"
   ]
  },
  {
   "cell_type": "code",
   "execution_count": 9,
   "metadata": {
    "collapsed": true
   },
   "outputs": [],
   "source": [
    "dataset_features = Table(\n",
    "    'dataset_features', metadata,\n",
    "    Column('ds_feature_id', Integer, primary_key=True),\n",
    "    Column('ft_feature_id', Integer, primary_key=True),\n",
    "    Column('count', Integer),\n",
    "    Column('resource_id', Integer),\n",
    "    ForeignKeyConstraint(['ds_feature_id'], [datasets.c.feature_id],\n",
    "                         name='fk_dataset_features_datasets',\n",
    "                         ondelete='NO ACTION', onupdate='NO ACTION'),\n",
    "    ForeignKeyConstraint(['ft_feature_id'], [features.c.feature_id],\n",
    "                         name='fk_dataset_features_features',\n",
    "                         ondelete='NO ACTION', onupdate='NO ACTION'),\n",
    "    ForeignKeyConstraint(['resource_id'], [resources.c.resource_id],\n",
    "                         name='fk_dataset_features_resources',\n",
    "                         ondelete='NO ACTION', onupdate='NO ACTION')\n",
    ")"
   ]
  },
  {
   "cell_type": "code",
   "execution_count": 10,
   "metadata": {
    "collapsed": false
   },
   "outputs": [
    {
     "name": "stderr",
     "output_type": "stream",
     "text": [
      "INFO:sqlalchemy.engine.base.Engine:select version()\n",
      "INFO:sqlalchemy.engine.base.Engine:{}\n",
      "INFO:sqlalchemy.engine.base.Engine:select current_schema()\n",
      "INFO:sqlalchemy.engine.base.Engine:{}\n",
      "INFO:sqlalchemy.engine.base.Engine:SELECT CAST('test plain returns' AS VARCHAR(60)) AS anon_1\n",
      "INFO:sqlalchemy.engine.base.Engine:{}\n",
      "INFO:sqlalchemy.engine.base.Engine:SELECT CAST('test unicode returns' AS VARCHAR(60)) AS anon_1\n",
      "INFO:sqlalchemy.engine.base.Engine:{}\n",
      "INFO:sqlalchemy.engine.base.Engine:show standard_conforming_strings\n",
      "INFO:sqlalchemy.engine.base.Engine:{}\n",
      "INFO:sqlalchemy.engine.base.Engine:select relname from pg_class c join pg_namespace n on n.oid=c.relnamespace where pg_catalog.pg_table_is_visible(c.oid) and relname=%(name)s\n",
      "INFO:sqlalchemy.engine.base.Engine:{'name': 'dataset_features'}\n",
      "INFO:sqlalchemy.engine.base.Engine:\n",
      "DROP TABLE dataset_features\n",
      "INFO:sqlalchemy.engine.base.Engine:{}\n",
      "INFO:sqlalchemy.engine.base.Engine:COMMIT\n",
      "INFO:sqlalchemy.engine.base.Engine:select relname from pg_class c join pg_namespace n on n.oid=c.relnamespace where pg_catalog.pg_table_is_visible(c.oid) and relname=%(name)s\n",
      "INFO:sqlalchemy.engine.base.Engine:{'name': 'resources'}\n",
      "INFO:sqlalchemy.engine.base.Engine:\n",
      "DROP TABLE resources\n",
      "INFO:sqlalchemy.engine.base.Engine:{}\n",
      "INFO:sqlalchemy.engine.base.Engine:COMMIT\n",
      "INFO:sqlalchemy.engine.base.Engine:select relname from pg_class c join pg_namespace n on n.oid=c.relnamespace where pg_catalog.pg_table_is_visible(c.oid) and relname=%(name)s\n",
      "INFO:sqlalchemy.engine.base.Engine:{'name': 'datasets'}\n",
      "INFO:sqlalchemy.engine.base.Engine:\n",
      "DROP TABLE datasets\n",
      "INFO:sqlalchemy.engine.base.Engine:{}\n",
      "INFO:sqlalchemy.engine.base.Engine:COMMIT\n",
      "INFO:sqlalchemy.engine.base.Engine:select relname from pg_class c join pg_namespace n on n.oid=c.relnamespace where pg_catalog.pg_table_is_visible(c.oid) and relname=%(name)s\n",
      "INFO:sqlalchemy.engine.base.Engine:{'name': 'features'}\n",
      "INFO:sqlalchemy.engine.base.Engine:\n",
      "DROP TABLE features\n",
      "INFO:sqlalchemy.engine.base.Engine:{}\n",
      "INFO:sqlalchemy.engine.base.Engine:COMMIT\n",
      "INFO:sqlalchemy.engine.base.Engine:select relname from pg_class c join pg_namespace n on n.oid=c.relnamespace where pg_catalog.pg_table_is_visible(c.oid) and relname=%(name)s\n",
      "INFO:sqlalchemy.engine.base.Engine:{'name': 'types'}\n",
      "INFO:sqlalchemy.engine.base.Engine:\n",
      "DROP TABLE types\n",
      "INFO:sqlalchemy.engine.base.Engine:{}\n",
      "INFO:sqlalchemy.engine.base.Engine:COMMIT\n",
      "INFO:sqlalchemy.engine.base.Engine:\n",
      "CREATE TABLE types (\n",
      "\ttype_id SERIAL NOT NULL, \n",
      "\tname VARCHAR(45), \n",
      "\tPRIMARY KEY (type_id)\n",
      ")\n",
      "\n",
      "\n",
      "INFO:sqlalchemy.engine.base.Engine:{}\n",
      "INFO:sqlalchemy.engine.base.Engine:COMMIT\n",
      "INFO:sqlalchemy.engine.base.Engine:\n",
      "CREATE TABLE features (\n",
      "\tfeature_id SERIAL NOT NULL, \n",
      "\tnamespace VARCHAR(255), \n",
      "\ttype_id INTEGER NOT NULL, \n",
      "\tPRIMARY KEY (feature_id), \n",
      "\tCONSTRAINT fk_features_types FOREIGN KEY(type_id) REFERENCES types (type_id) ON DELETE NO ACTION ON UPDATE NO ACTION\n",
      ")\n",
      "\n",
      "\n",
      "INFO:sqlalchemy.engine.base.Engine:{}\n",
      "INFO:sqlalchemy.engine.base.Engine:COMMIT\n",
      "INFO:sqlalchemy.engine.base.Engine:\n",
      "CREATE TABLE datasets (\n",
      "\tfeature_id INTEGER NOT NULL, \n",
      "\tmeta VARCHAR(45), \n",
      "\tmeta_id VARCHAR(45), \n",
      "\tmeta_url VARCHAR(255), \n",
      "\tname VARCHAR(45), \n",
      "\turl VARCHAR(255), \n",
      "\tcreated_at TIMESTAMP WITHOUT TIME ZONE, \n",
      "\tmodified_at TIMESTAMP WITHOUT TIME ZONE, \n",
      "\tPRIMARY KEY (feature_id), \n",
      "\tCONSTRAINT fk_datasets_features FOREIGN KEY(feature_id) REFERENCES features (feature_id) ON DELETE NO ACTION ON UPDATE NO ACTION\n",
      ")\n",
      "\n",
      "\n",
      "INFO:sqlalchemy.engine.base.Engine:{}\n",
      "INFO:sqlalchemy.engine.base.Engine:COMMIT\n",
      "INFO:sqlalchemy.engine.base.Engine:\n",
      "CREATE TABLE resources (\n",
      "\tresource_id SERIAL NOT NULL, \n",
      "\tformat VARCHAR(45), \n",
      "\turl VARCHAR(255), \n",
      "\tsource VARCHAR(255), \n",
      "\tdescription VARCHAR(255), \n",
      "\tis_online BOOLEAN, \n",
      "\tfeature_id INTEGER, \n",
      "\tPRIMARY KEY (resource_id), \n",
      "\tCONSTRAINT fk_resources_datasets FOREIGN KEY(feature_id) REFERENCES datasets (feature_id) ON DELETE NO ACTION ON UPDATE NO ACTION\n",
      ")\n",
      "\n",
      "\n",
      "INFO:sqlalchemy.engine.base.Engine:{}\n",
      "INFO:sqlalchemy.engine.base.Engine:COMMIT\n",
      "INFO:sqlalchemy.engine.base.Engine:\n",
      "CREATE TABLE dataset_features (\n",
      "\tds_feature_id INTEGER NOT NULL, \n",
      "\tft_feature_id INTEGER NOT NULL, \n",
      "\tcount INTEGER, \n",
      "\tresource_id INTEGER, \n",
      "\tPRIMARY KEY (ds_feature_id, ft_feature_id), \n",
      "\tCONSTRAINT fk_dataset_features_datasets FOREIGN KEY(ds_feature_id) REFERENCES datasets (feature_id) ON DELETE NO ACTION ON UPDATE NO ACTION, \n",
      "\tCONSTRAINT fk_dataset_features_features FOREIGN KEY(ft_feature_id) REFERENCES features (feature_id) ON DELETE NO ACTION ON UPDATE NO ACTION, \n",
      "\tCONSTRAINT fk_dataset_features_resources FOREIGN KEY(resource_id) REFERENCES resources (resource_id) ON DELETE NO ACTION ON UPDATE NO ACTION\n",
      ")\n",
      "\n",
      "\n",
      "INFO:sqlalchemy.engine.base.Engine:{}\n",
      "INFO:sqlalchemy.engine.base.Engine:COMMIT\n"
     ]
    }
   ],
   "source": [
    "if dataset_features.exists():\n",
    "    dataset_features.drop()\n",
    "if resources.exists():\n",
    "    resources.drop()\n",
    "if datasets.exists():\n",
    "    datasets.drop()\n",
    "if features.exists():\n",
    "    features.drop()\n",
    "if types.exists():\n",
    "    types.drop()\n",
    "types.create()\n",
    "features.create()\n",
    "datasets.create()\n",
    "resources.create()\n",
    "dataset_features.create()"
   ]
  },
  {
   "cell_type": "code",
   "execution_count": null,
   "metadata": {
    "collapsed": true
   },
   "outputs": [],
   "source": []
  }
 ],
 "metadata": {
  "kernelspec": {
   "display_name": "Python 3",
   "language": "python",
   "name": "python3"
  },
  "language_info": {
   "codemirror_mode": {
    "name": "ipython",
    "version": 3
   },
   "file_extension": ".py",
   "mimetype": "text/x-python",
   "name": "python",
   "nbconvert_exporter": "python",
   "pygments_lexer": "ipython3",
   "version": "3.4.3"
  }
 },
 "nbformat": 4,
 "nbformat_minor": 0
}
