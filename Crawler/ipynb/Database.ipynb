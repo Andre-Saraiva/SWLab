{
 "cells": [
  {
   "cell_type": "code",
   "execution_count": 1,
   "metadata": {
    "collapsed": true
   },
   "outputs": [],
   "source": [
    "import sys\n",
    "sys.path.append('..')"
   ]
  },
  {
   "cell_type": "code",
   "execution_count": 2,
   "metadata": {
    "collapsed": true
   },
   "outputs": [],
   "source": [
    "from src.tasks.models import engine\n",
    "from src.tasks.models import types, features, datasets, resources, dataset_features, check_voids\n",
    "from src.tasks.models import activate_logging, create_schema"
   ]
  },
  {
   "cell_type": "code",
   "execution_count": 3,
   "metadata": {
    "collapsed": true
   },
   "outputs": [],
   "source": [
    "activate_logging()"
   ]
  },
  {
   "cell_type": "code",
   "execution_count": 4,
   "metadata": {
    "collapsed": false
   },
   "outputs": [
    {
     "name": "stderr",
     "output_type": "stream",
     "text": [
      "INFO:sqlalchemy.engine.base.Engine:select version()\n",
      "INFO:sqlalchemy.engine.base.Engine:{}\n",
      "INFO:sqlalchemy.engine.base.Engine:select current_schema()\n",
      "INFO:sqlalchemy.engine.base.Engine:{}\n",
      "INFO:sqlalchemy.engine.base.Engine:SELECT CAST('test plain returns' AS VARCHAR(60)) AS anon_1\n",
      "INFO:sqlalchemy.engine.base.Engine:{}\n",
      "INFO:sqlalchemy.engine.base.Engine:SELECT CAST('test unicode returns' AS VARCHAR(60)) AS anon_1\n",
      "INFO:sqlalchemy.engine.base.Engine:{}\n",
      "INFO:sqlalchemy.engine.base.Engine:show standard_conforming_strings\n",
      "INFO:sqlalchemy.engine.base.Engine:{}\n",
      "INFO:sqlalchemy.engine.base.Engine:select relname from pg_class c join pg_namespace n on n.oid=c.relnamespace where pg_catalog.pg_table_is_visible(c.oid) and relname=%(name)s\n",
      "INFO:sqlalchemy.engine.base.Engine:{'name': 'check_voids'}\n",
      "INFO:sqlalchemy.engine.base.Engine:select relname from pg_class c join pg_namespace n on n.oid=c.relnamespace where pg_catalog.pg_table_is_visible(c.oid) and relname=%(name)s\n",
      "INFO:sqlalchemy.engine.base.Engine:{'name': 'dataset_features'}\n",
      "INFO:sqlalchemy.engine.base.Engine:\n",
      "DROP TABLE dataset_features\n",
      "INFO:sqlalchemy.engine.base.Engine:{}\n",
      "INFO:sqlalchemy.engine.base.Engine:COMMIT\n",
      "INFO:sqlalchemy.engine.base.Engine:select relname from pg_class c join pg_namespace n on n.oid=c.relnamespace where pg_catalog.pg_table_is_visible(c.oid) and relname=%(name)s\n",
      "INFO:sqlalchemy.engine.base.Engine:{'name': 'resources'}\n",
      "INFO:sqlalchemy.engine.base.Engine:\n",
      "DROP TABLE resources\n",
      "INFO:sqlalchemy.engine.base.Engine:{}\n",
      "INFO:sqlalchemy.engine.base.Engine:COMMIT\n",
      "INFO:sqlalchemy.engine.base.Engine:select relname from pg_class c join pg_namespace n on n.oid=c.relnamespace where pg_catalog.pg_table_is_visible(c.oid) and relname=%(name)s\n",
      "INFO:sqlalchemy.engine.base.Engine:{'name': 'datasets'}\n",
      "INFO:sqlalchemy.engine.base.Engine:\n",
      "DROP TABLE datasets\n",
      "INFO:sqlalchemy.engine.base.Engine:{}\n",
      "INFO:sqlalchemy.engine.base.Engine:COMMIT\n",
      "INFO:sqlalchemy.engine.base.Engine:select relname from pg_class c join pg_namespace n on n.oid=c.relnamespace where pg_catalog.pg_table_is_visible(c.oid) and relname=%(name)s\n",
      "INFO:sqlalchemy.engine.base.Engine:{'name': 'features'}\n",
      "INFO:sqlalchemy.engine.base.Engine:\n",
      "DROP TABLE features\n",
      "INFO:sqlalchemy.engine.base.Engine:{}\n",
      "INFO:sqlalchemy.engine.base.Engine:COMMIT\n",
      "INFO:sqlalchemy.engine.base.Engine:select relname from pg_class c join pg_namespace n on n.oid=c.relnamespace where pg_catalog.pg_table_is_visible(c.oid) and relname=%(name)s\n",
      "INFO:sqlalchemy.engine.base.Engine:{'name': 'types'}\n",
      "INFO:sqlalchemy.engine.base.Engine:\n",
      "DROP TABLE types\n",
      "INFO:sqlalchemy.engine.base.Engine:{}\n",
      "INFO:sqlalchemy.engine.base.Engine:COMMIT\n",
      "INFO:sqlalchemy.engine.base.Engine:\n",
      "CREATE TABLE types (\n",
      "\ttype_id SERIAL NOT NULL, \n",
      "\tname VARCHAR(45), \n",
      "\tPRIMARY KEY (type_id)\n",
      ")\n",
      "\n",
      "\n",
      "INFO:sqlalchemy.engine.base.Engine:{}\n",
      "INFO:sqlalchemy.engine.base.Engine:COMMIT\n",
      "INFO:sqlalchemy.engine.base.Engine:\n",
      "CREATE TABLE features (\n",
      "\tfeature_id SERIAL NOT NULL, \n",
      "\tnamespace VARCHAR(2083), \n",
      "\ttype_id INTEGER NOT NULL, \n",
      "\tPRIMARY KEY (feature_id), \n",
      "\tCONSTRAINT fk_features_types FOREIGN KEY(type_id) REFERENCES types (type_id) ON DELETE NO ACTION ON UPDATE NO ACTION\n",
      ")\n",
      "\n",
      "\n",
      "INFO:sqlalchemy.engine.base.Engine:{}\n",
      "INFO:sqlalchemy.engine.base.Engine:COMMIT\n",
      "INFO:sqlalchemy.engine.base.Engine:\n",
      "CREATE TABLE datasets (\n",
      "\tfeature_id INTEGER NOT NULL, \n",
      "\tmeta VARCHAR(45), \n",
      "\tmeta_id VARCHAR(45), \n",
      "\tmeta_url VARCHAR(2083), \n",
      "\tname VARCHAR(150), \n",
      "\turl VARCHAR(2083), \n",
      "\tcreated_at TIMESTAMP WITHOUT TIME ZONE, \n",
      "\tmodified_at TIMESTAMP WITHOUT TIME ZONE, \n",
      "\tPRIMARY KEY (feature_id), \n",
      "\tCONSTRAINT fk_datasets_features FOREIGN KEY(feature_id) REFERENCES features (feature_id) ON DELETE NO ACTION ON UPDATE NO ACTION\n",
      ")\n",
      "\n",
      "\n",
      "INFO:sqlalchemy.engine.base.Engine:{}\n",
      "INFO:sqlalchemy.engine.base.Engine:COMMIT\n",
      "INFO:sqlalchemy.engine.base.Engine:\n",
      "CREATE TABLE resources (\n",
      "\tresource_id SERIAL NOT NULL, \n",
      "\tformat VARCHAR(500), \n",
      "\turl VARCHAR(10000), \n",
      "\tsource VARCHAR(45), \n",
      "\tdescription VARCHAR(5000), \n",
      "\tis_online BOOLEAN, \n",
      "\tfeature_id INTEGER, \n",
      "\tPRIMARY KEY (resource_id), \n",
      "\tCONSTRAINT fk_resources_features FOREIGN KEY(feature_id) REFERENCES features (feature_id) ON DELETE NO ACTION ON UPDATE NO ACTION\n",
      ")\n",
      "\n",
      "\n",
      "INFO:sqlalchemy.engine.base.Engine:{}\n",
      "INFO:sqlalchemy.engine.base.Engine:COMMIT\n",
      "INFO:sqlalchemy.engine.base.Engine:\n",
      "CREATE TABLE dataset_features (\n",
      "\tds_feature_id INTEGER NOT NULL, \n",
      "\tft_feature_id INTEGER NOT NULL, \n",
      "\tcount INTEGER, \n",
      "\tresource_id INTEGER NOT NULL, \n",
      "\tPRIMARY KEY (ds_feature_id, ft_feature_id, resource_id), \n",
      "\tCONSTRAINT fk_dataset_features_datasets FOREIGN KEY(ds_feature_id) REFERENCES datasets (feature_id) ON DELETE NO ACTION ON UPDATE NO ACTION, \n",
      "\tCONSTRAINT fk_dataset_features_features FOREIGN KEY(ft_feature_id) REFERENCES features (feature_id) ON DELETE NO ACTION ON UPDATE NO ACTION, \n",
      "\tCONSTRAINT fk_dataset_features_resources FOREIGN KEY(resource_id) REFERENCES resources (resource_id) ON DELETE NO ACTION ON UPDATE NO ACTION\n",
      ")\n",
      "\n",
      "\n",
      "INFO:sqlalchemy.engine.base.Engine:{}\n",
      "INFO:sqlalchemy.engine.base.Engine:COMMIT\n",
      "INFO:sqlalchemy.engine.base.Engine:\n",
      "CREATE TABLE check_voids (\n",
      "\tcheck_void_id SERIAL NOT NULL, \n",
      "\tcontent_type VARCHAR(255), \n",
      "\turl VARCHAR(2083), \n",
      "\tsource VARCHAR(45), \n",
      "\tfeature_id INTEGER, \n",
      "\tcontent BYTEA, \n",
      "\tPRIMARY KEY (check_void_id), \n",
      "\tCONSTRAINT fk_check_voids_features FOREIGN KEY(feature_id) REFERENCES features (feature_id) ON DELETE NO ACTION ON UPDATE NO ACTION\n",
      ")\n",
      "\n",
      "\n",
      "INFO:sqlalchemy.engine.base.Engine:{}\n",
      "INFO:sqlalchemy.engine.base.Engine:COMMIT\n",
      "INFO:sqlalchemy.engine.base.Engine:INSERT INTO types (name) VALUES (%(name)s)\n",
      "INFO:sqlalchemy.engine.base.Engine:({'name': 'dataset'}, {'name': 'property'}, {'name': 'class'}, {'name': 'vocabulary'})\n",
      "INFO:sqlalchemy.engine.base.Engine:COMMIT\n"
     ]
    }
   ],
   "source": [
    "create_schema()"
   ]
  },
  {
   "cell_type": "code",
   "execution_count": null,
   "metadata": {
    "collapsed": true
   },
   "outputs": [],
   "source": []
  }
 ],
 "metadata": {
  "kernelspec": {
   "display_name": "Python 3",
   "language": "python",
   "name": "python3"
  },
  "language_info": {
   "codemirror_mode": {
    "name": "ipython",
    "version": 3
   },
   "file_extension": ".py",
   "mimetype": "text/x-python",
   "name": "python",
   "nbconvert_exporter": "python",
   "pygments_lexer": "ipython3",
   "version": "3.4.3"
  }
 },
 "nbformat": 4,
 "nbformat_minor": 0
}
