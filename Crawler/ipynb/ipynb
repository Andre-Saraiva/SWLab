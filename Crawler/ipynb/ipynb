# Sobre

Diretorio destinado a Notebooks criados no Jupyter Notebook (IPython)

Para instalar Jupyter Notebook:
```
$ pip install ipython[all]
```

Para executá-lo
```
$ jupyter notebook
```

# Outras dependências
-Requests:
```
$ pip install requests
```


