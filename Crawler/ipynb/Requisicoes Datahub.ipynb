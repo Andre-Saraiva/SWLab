{
 "cells": [
  {
   "cell_type": "markdown",
   "metadata": {},
   "source": [
    "# Listar datasets"
   ]
  },
  {
   "cell_type": "code",
   "execution_count": 1,
   "metadata": {
    "collapsed": true
   },
   "outputs": [],
   "source": [
    "import requests\n",
    "from collections import namedtuple"
   ]
  },
  {
   "cell_type": "code",
   "execution_count": 2,
   "metadata": {
    "collapsed": false
   },
   "outputs": [],
   "source": [
    "p = requests.get('http://datahub.io/api/3/action/package_list')"
   ]
  },
  {
   "cell_type": "code",
   "execution_count": 3,
   "metadata": {
    "collapsed": false
   },
   "outputs": [
    {
     "data": {
      "text/plain": [
       "200"
      ]
     },
     "execution_count": 3,
     "metadata": {},
     "output_type": "execute_result"
    }
   ],
   "source": [
    "p.status_code"
   ]
  },
  {
   "cell_type": "code",
   "execution_count": 4,
   "metadata": {
    "collapsed": true
   },
   "outputs": [],
   "source": [
    "json = p.json()"
   ]
  },
  {
   "cell_type": "code",
   "execution_count": 5,
   "metadata": {
    "collapsed": false
   },
   "outputs": [
    {
     "data": {
      "text/plain": [
       "[u'help', u'success', u'result']"
      ]
     },
     "execution_count": 5,
     "metadata": {},
     "output_type": "execute_result"
    }
   ],
   "source": [
    "json.keys()"
   ]
  },
  {
   "cell_type": "markdown",
   "metadata": {},
   "source": [
    "Por padrão, ckan retorna status 200, devemos verificar o sucesso na resposta:"
   ]
  },
  {
   "cell_type": "code",
   "execution_count": 6,
   "metadata": {
    "collapsed": false
   },
   "outputs": [
    {
     "data": {
      "text/plain": [
       "True"
      ]
     },
     "execution_count": 6,
     "metadata": {},
     "output_type": "execute_result"
    }
   ],
   "source": [
    "json['success']"
   ]
  },
  {
   "cell_type": "code",
   "execution_count": 7,
   "metadata": {
    "collapsed": true
   },
   "outputs": [],
   "source": [
    "lis = json['result']"
   ]
  },
  {
   "cell_type": "code",
   "execution_count": 8,
   "metadata": {
    "collapsed": false
   },
   "outputs": [
    {
     "data": {
      "text/plain": [
       "[u'1033-prog',\n",
       " u'10leading-discharges-alive-and-dead-by-principal-diagnosis-type-of-hospital-nationality-and-sex-2009',\n",
       " u'12',\n",
       " u'13',\n",
       " u'1790-2010-historical-population-york-county-virginia',\n",
       " u'1855spanishrailways',\n",
       " u'1902-norfolk-virginia-geopdf',\n",
       " u'1921-newport-news-virginia-geopdf',\n",
       " u'1944-norfolk-south-virginia-geopdf',\n",
       " u'1948-norfolk-south-virginia-geopdf']"
      ]
     },
     "execution_count": 8,
     "metadata": {},
     "output_type": "execute_result"
    }
   ],
   "source": [
    "lis[:10]"
   ]
  },
  {
   "cell_type": "markdown",
   "metadata": {},
   "source": [
    "Filtrar ieee"
   ]
  },
  {
   "cell_type": "code",
   "execution_count": 9,
   "metadata": {
    "collapsed": false
   },
   "outputs": [
    {
     "data": {
      "text/plain": [
       "[u'rkb-explorer-ieee', u'twc-ieeevis']"
      ]
     },
     "execution_count": 9,
     "metadata": {},
     "output_type": "execute_result"
    }
   ],
   "source": [
    "[x for x in lis if 'ieee' in x]"
   ]
  },
  {
   "cell_type": "code",
   "execution_count": 10,
   "metadata": {
    "collapsed": true
   },
   "outputs": [],
   "source": [
    "ieee = _[0]"
   ]
  },
  {
   "cell_type": "markdown",
   "metadata": {},
   "source": [
    "# Pegar informações de dataset"
   ]
  },
  {
   "cell_type": "code",
   "execution_count": 11,
   "metadata": {
    "collapsed": true
   },
   "outputs": [],
   "source": [
    "name = ieee\n",
    "p2 = requests.get('http://datahub.io/api/3/action/package_show?id={}'.format(name))"
   ]
  },
  {
   "cell_type": "code",
   "execution_count": 12,
   "metadata": {
    "collapsed": false
   },
   "outputs": [
    {
     "data": {
      "text/plain": [
       "200"
      ]
     },
     "execution_count": 12,
     "metadata": {},
     "output_type": "execute_result"
    }
   ],
   "source": [
    "p2.status_code"
   ]
  },
  {
   "cell_type": "code",
   "execution_count": 13,
   "metadata": {
    "collapsed": true
   },
   "outputs": [],
   "source": [
    "json2 = p2.json()"
   ]
  },
  {
   "cell_type": "code",
   "execution_count": 14,
   "metadata": {
    "collapsed": false
   },
   "outputs": [
    {
     "data": {
      "text/plain": [
       "[u'help', u'success', u'result']"
      ]
     },
     "execution_count": 14,
     "metadata": {},
     "output_type": "execute_result"
    }
   ],
   "source": [
    "json2.keys()"
   ]
  },
  {
   "cell_type": "code",
   "execution_count": 15,
   "metadata": {
    "collapsed": false
   },
   "outputs": [
    {
     "data": {
      "text/plain": [
       "True"
      ]
     },
     "execution_count": 15,
     "metadata": {},
     "output_type": "execute_result"
    }
   ],
   "source": [
    "json2['success']"
   ]
  },
  {
   "cell_type": "code",
   "execution_count": 16,
   "metadata": {
    "collapsed": true
   },
   "outputs": [],
   "source": [
    "dataset = json2['result']"
   ]
  },
  {
   "cell_type": "code",
   "execution_count": 17,
   "metadata": {
    "collapsed": false,
    "scrolled": true
   },
   "outputs": [
    {
     "data": {
      "text/plain": [
       "[u'license_title',\n",
       " u'maintainer',\n",
       " u'relationships_as_object',\n",
       " u'private',\n",
       " u'maintainer_email',\n",
       " u'revision_timestamp',\n",
       " u'id',\n",
       " u'metadata_created',\n",
       " u'metadata_modified',\n",
       " u'author',\n",
       " u'author_email',\n",
       " u'state',\n",
       " u'version',\n",
       " u'license_id',\n",
       " u'type',\n",
       " u'resources',\n",
       " u'num_resources',\n",
       " u'tags',\n",
       " u'tracking_summary',\n",
       " u'groups',\n",
       " u'organization',\n",
       " u'relationships_as_subject',\n",
       " u'num_tags',\n",
       " u'name',\n",
       " u'isopen',\n",
       " u'url',\n",
       " u'notes',\n",
       " u'owner_org',\n",
       " u'extras',\n",
       " u'title',\n",
       " u'revision_id']"
      ]
     },
     "execution_count": 17,
     "metadata": {},
     "output_type": "execute_result"
    }
   ],
   "source": [
    "dataset.keys()"
   ]
  },
  {
   "cell_type": "code",
   "execution_count": 18,
   "metadata": {
    "collapsed": false
   },
   "outputs": [
    {
     "data": {
      "text/plain": [
       "u'2013-10-10T23:27:21.946709'"
      ]
     },
     "execution_count": 18,
     "metadata": {},
     "output_type": "execute_result"
    }
   ],
   "source": [
    "dataset[u'revision_timestamp']"
   ]
  },
  {
   "cell_type": "markdown",
   "metadata": {},
   "source": [
    "## O ID é outro ponto de acesso\n",
    "\n",
    "O ID também pode ser usado no http://datahub.io/api/3/action/package_show?id={}\n",
    "\n",
    "No datahub, alguns relacionamentos usam 'id', outros usam 'name'\n",
    "No RDF, os relacionamentos usam 'url'"
   ]
  },
  {
   "cell_type": "code",
   "execution_count": 19,
   "metadata": {
    "collapsed": false
   },
   "outputs": [
    {
     "data": {
      "text/plain": [
       "u'feec8014-10d0-47c1-9f4d-eed33dc68d83'"
      ]
     },
     "execution_count": 19,
     "metadata": {},
     "output_type": "execute_result"
    }
   ],
   "source": [
    "dataset['id']"
   ]
  },
  {
   "cell_type": "code",
   "execution_count": 20,
   "metadata": {
    "collapsed": false
   },
   "outputs": [
    {
     "data": {
      "text/plain": [
       "u'rkb-explorer-ieee'"
      ]
     },
     "execution_count": 20,
     "metadata": {},
     "output_type": "execute_result"
    }
   ],
   "source": [
    "dataset['name']"
   ]
  },
  {
   "cell_type": "code",
   "execution_count": 21,
   "metadata": {
    "collapsed": false
   },
   "outputs": [
    {
     "data": {
      "text/plain": [
       "u'http://ieee.rkbexplorer.com'"
      ]
     },
     "execution_count": 21,
     "metadata": {},
     "output_type": "execute_result"
    }
   ],
   "source": [
    "dataset['url']"
   ]
  },
  {
   "cell_type": "markdown",
   "metadata": {},
   "source": [
    "## Obter links em \"Additional Info\""
   ]
  },
  {
   "cell_type": "code",
   "execution_count": 22,
   "metadata": {
    "collapsed": false
   },
   "outputs": [
    {
     "data": {
      "text/plain": [
       "[Link(name=u'rkb-explorer-acm', count=2949),\n",
       " Link(name=u'rkb-explorer-citeseer', count=1182),\n",
       " Link(name=u'rkb-explorer-curriculum', count=2),\n",
       " Link(name=u'rkb-explorer-dblp', count=5867),\n",
       " Link(name=u'rkb-explorer-dotac', count=50),\n",
       " Link(name=u'rkb-explorer-eprints', count=643),\n",
       " Link(name=u'rkb-explorer-ibm', count=29),\n",
       " Link(name=u'rkb-explorer-kisti', count=516),\n",
       " Link(name=u'rkb-explorer-laas', count=97),\n",
       " Link(name=u'rkb-explorer-newcastle', count=73),\n",
       " Link(name=u'rkb-explorer-nsf', count=1),\n",
       " Link(name=u'rkb-explorer-oai', count=417),\n",
       " Link(name=u'rkb-explorer-pisa', count=18),\n",
       " Link(name=u'rkb-explorer-rae2001', count=17),\n",
       " Link(name=u'rkb-explorer-resex', count=6),\n",
       " Link(name=u'rkb-explorer-risks', count=3),\n",
       " Link(name=u'rkb-explorer-roma', count=3),\n",
       " Link(name=u'rkb-explorer-southampton', count=7),\n",
       " Link(name=u'rkb-explorer-ulm', count=5),\n",
       " Link(name=u'rkb-explorer-wiki', count=9)]"
      ]
     },
     "execution_count": 22,
     "metadata": {},
     "output_type": "execute_result"
    }
   ],
   "source": [
    "Link = namedtuple('Link', 'name count')\n",
    "additional_info = dataset['extras']\n",
    "is_link = lambda x: x['key'].startswith('links:')\n",
    "link_tuple = lambda x: Link(x['key'][6:], int(x['value']))\n",
    "\n",
    "links = [link_tuple(x) for x in additional_info if is_link(x)]\n",
    "links"
   ]
  },
  {
   "cell_type": "markdown",
   "metadata": {},
   "source": [
    "## Obter links em propriedades de relationships"
   ]
  },
  {
   "cell_type": "code",
   "execution_count": 23,
   "metadata": {
    "collapsed": false
   },
   "outputs": [
    {
     "data": {
      "text/plain": [
       "[Relationship(id=u'525f35ed-c2e7-4798-983c-d7723909419a', comment=u'30', type=u'links_to', object=u'feec8014-10d0-47c1-9f4d-eed33dc68d83', subject=u'6e829250-dd11-45d2-bdcc-15281e1bda21'),\n",
       " Relationship(id=u'1509e4aa-d34b-47a8-8702-6eff8a9487ed', comment=u'561', type=u'links_to', object=u'feec8014-10d0-47c1-9f4d-eed33dc68d83', subject=u'6088e558-4e1c-43e8-bd8e-73a36a8d7a5a'),\n",
       " Relationship(id=u'a838bbb7-cd3c-4e7d-9ca8-f5352841ea66', comment=u'6', type=u'links_to', object=u'feec8014-10d0-47c1-9f4d-eed33dc68d83', subject=u'77b1e682-7595-470c-b222-40561b0f0f32'),\n",
       " Relationship(id=u'4bd5b9a0-7b03-4a33-8977-3a32e023d1af', comment=u'mika_i_zika', type=u'depends_on', object=u'feec8014-10d0-47c1-9f4d-eed33dc68d83', subject=u'15f90bfb-75fa-4825-a384-cff14d4f5dca')]"
      ]
     },
     "execution_count": 23,
     "metadata": {},
     "output_type": "execute_result"
    }
   ],
   "source": [
    "Relationship = namedtuple('Relationship', 'id comment type object subject')\n",
    "as_object = dataset['relationships_as_object']\n",
    "\n",
    "relation = lambda x: Relationship(x['id'], x['comment'], x['type'],\n",
    "                                  x['__extras']['object_package_id'],\n",
    "                                  x['__extras']['subject_package_id'])\n",
    "relationships_as_object = list(map(relation, as_object))\n",
    "relationships_as_object"
   ]
  },
  {
   "cell_type": "code",
   "execution_count": 24,
   "metadata": {
    "collapsed": false
   },
   "outputs": [
    {
     "data": {
      "text/plain": [
       "[Relationship(id=u'f93608f6-8cc8-4596-9159-35f6587058eb', comment=u'1', type=u'links_to', object=u'6954f22f-2db9-49b6-afe7-b73d46338075', subject=u'feec8014-10d0-47c1-9f4d-eed33dc68d83'),\n",
       " Relationship(id=u'cb1d2be0-2e66-4ab1-b263-19a7803047e5', comment=u'1182', type=u'links_to', object=u'382a8681-733a-420b-9420-ee71f09fb0af', subject=u'feec8014-10d0-47c1-9f4d-eed33dc68d83'),\n",
       " Relationship(id=u'e60dca89-2764-4bbb-9436-d030c737b9cb', comment=u'17', type=u'links_to', object=u'11830d16-fc34-49ac-acbb-4ffee77f2398', subject=u'feec8014-10d0-47c1-9f4d-eed33dc68d83'),\n",
       " Relationship(id=u'7e24475f-4314-4928-8259-81e79c2f98d7', comment=u'18', type=u'links_to', object=u'd0459637-cf13-4217-a245-6bc7139552a3', subject=u'feec8014-10d0-47c1-9f4d-eed33dc68d83'),\n",
       " Relationship(id=u'a40b95a5-a007-44a0-b9be-117774950bee', comment=u'2', type=u'links_to', object=u'7cfc8b4d-11d6-428b-929e-33d32f0e3d37', subject=u'feec8014-10d0-47c1-9f4d-eed33dc68d83'),\n",
       " Relationship(id=u'e6308565-0121-42c6-a2a5-c3be8836fccf', comment=u'2949', type=u'links_to', object=u'3f3a5534-bafd-451f-9c2e-587a823c5f09', subject=u'feec8014-10d0-47c1-9f4d-eed33dc68d83'),\n",
       " Relationship(id=u'af7b4626-5e64-49f6-81d6-b6f299063f0d', comment=u'3', type=u'links_to', object=u'7565e870-177e-484a-afa7-c2d80afe1647', subject=u'feec8014-10d0-47c1-9f4d-eed33dc68d83'),\n",
       " Relationship(id=u'f3cdf69b-1330-41f0-8ea4-36c388096904', comment=u'3', type=u'links_to', object=u'2de7f821-1da6-4eb8-aefe-73147d833f56', subject=u'feec8014-10d0-47c1-9f4d-eed33dc68d83'),\n",
       " Relationship(id=u'a4cc70c4-3629-4425-864d-82cbc0e38658', comment=u'417', type=u'links_to', object=u'23125bb4-da77-4d8f-958d-c22a9c17e158', subject=u'feec8014-10d0-47c1-9f4d-eed33dc68d83'),\n",
       " Relationship(id=u'96fd154d-16bf-4346-8769-8bcae220d2fc', comment=u'5', type=u'links_to', object=u'1969c668-a7db-4c65-971b-81cf4b3d1a75', subject=u'feec8014-10d0-47c1-9f4d-eed33dc68d83'),\n",
       " Relationship(id=u'00e726e6-9141-4e6b-b64e-6a7550647901', comment=u'50', type=u'links_to', object=u'0c2ec56c-c041-4775-b733-94cecefea420', subject=u'feec8014-10d0-47c1-9f4d-eed33dc68d83'),\n",
       " Relationship(id=u'de7504b6-c381-4e90-bd32-2bfb3e9a650f', comment=u'5867', type=u'links_to', object=u'3ffa7aac-7f1f-496f-801d-7941c932c631', subject=u'feec8014-10d0-47c1-9f4d-eed33dc68d83'),\n",
       " Relationship(id=u'13035f0b-ccad-4582-8759-ae6b5b2604ed', comment=u'7', type=u'links_to', object=u'36e89acf-8b08-4a46-8ae7-f1a5a5cdbc7c', subject=u'feec8014-10d0-47c1-9f4d-eed33dc68d83'),\n",
       " Relationship(id=u'ae819dc4-b5f3-4e3a-9297-a20f7090aead', comment=u'73', type=u'links_to', object=u'a3bb25e1-6dac-4cde-b7d3-4e0dd5b958f3', subject=u'feec8014-10d0-47c1-9f4d-eed33dc68d83'),\n",
       " Relationship(id=u'2cb3d598-0730-49f6-81b4-d7d5ea01d2e8', comment=u'9', type=u'links_to', object=u'edd880c6-d9e6-4bff-999b-7e344917925c', subject=u'feec8014-10d0-47c1-9f4d-eed33dc68d83'),\n",
       " Relationship(id=u'f0db5df4-029c-44e5-924f-0703bb119d51', comment=u'97', type=u'links_to', object=u'fb7a2113-ce0d-4ca0-b23d-278d915433a1', subject=u'feec8014-10d0-47c1-9f4d-eed33dc68d83')]"
      ]
     },
     "execution_count": 24,
     "metadata": {},
     "output_type": "execute_result"
    }
   ],
   "source": [
    "as_subject = dataset[u'relationships_as_subject']\n",
    "relationships_as_subject = list(map(relation, as_subject))\n",
    "relationships_as_subject"
   ]
  },
  {
   "cell_type": "markdown",
   "metadata": {},
   "source": [
    "## Obter recursos"
   ]
  },
  {
   "cell_type": "code",
   "execution_count": 25,
   "metadata": {
    "collapsed": false
   },
   "outputs": [
    {
     "data": {
      "text/plain": [
       "[Resource(id=u'a21ae558-a78c-4de0-aeb3-065dff8b216a', revision_id=u'09be97c3-605f-4ca6-aa92-8940208b2b70', description=u'SPARQL endpoint', format=u'api/sparql', url=u'http://ieee.rkbexplorer.com/sparql/'),\n",
       " Resource(id=u'326f75fa-6a3d-4fa7-9f4c-40beb671600a', revision_id=u'09be97c3-605f-4ca6-aa92-8940208b2b70', description=u'XML Sitemap', format=u'meta/sitemap', url=u'http://ieee.rkbexplorer.com/sitemap.xml'),\n",
       " Resource(id=u'3614a6bc-96c3-40a8-85e9-c80356a5f4da', revision_id=u'09be97c3-605f-4ca6-aa92-8940208b2b70', description=u'voiD file', format=u'meta/void', url=u'http://ieee.rkbexplorer.com/models/void.ttl'),\n",
       " Resource(id=u'79633a5f-b262-4003-900a-240171f31bcc', revision_id=u'09be97c3-605f-4ca6-aa92-8940208b2b70', description=u'Example (RDF/XML)', format=u'example/rdf+xml', url=u'http://ieee.rkbexplorer.com/id/person-21757c2767705194600b55ff6b0ef692-1e427d6bbb6d2bb2aa5434059d6c58f4'),\n",
       " Resource(id=u'55544720-70b9-4aae-b055-ef6111515514', revision_id=u'09be97c3-605f-4ca6-aa92-8940208b2b70', description=u'', format=u'application/rdf+xml', url=u'http://ieee.rkbexplorer.com/models/dump.tgz')]"
      ]
     },
     "execution_count": 25,
     "metadata": {},
     "output_type": "execute_result"
    }
   ],
   "source": [
    "Resource = namedtuple('Resource', 'id revision_id description format url')\n",
    "\n",
    "resource = lambda x: Resource(x['id'], x['revision_id'], \n",
    "                              x['description'], x['format'], x['url'])\n",
    "resources = list(map(resource, dataset['resources']))\n",
    "resources"
   ]
  },
  {
   "cell_type": "markdown",
   "metadata": {},
   "source": [
    "Obter VOID"
   ]
  },
  {
   "cell_type": "code",
   "execution_count": 26,
   "metadata": {
    "collapsed": false
   },
   "outputs": [
    {
     "data": {
      "text/plain": [
       "Resource(id=u'3614a6bc-96c3-40a8-85e9-c80356a5f4da', revision_id=u'09be97c3-605f-4ca6-aa92-8940208b2b70', description=u'voiD file', format=u'meta/void', url=u'http://ieee.rkbexplorer.com/models/void.ttl')"
      ]
     },
     "execution_count": 26,
     "metadata": {},
     "output_type": "execute_result"
    }
   ],
   "source": [
    "[x for x in resources if x.format == 'meta/void'][0]"
   ]
  },
  {
   "cell_type": "markdown",
   "metadata": {},
   "source": [
    "Obter RDF"
   ]
  },
  {
   "cell_type": "code",
   "execution_count": 27,
   "metadata": {
    "collapsed": false
   },
   "outputs": [
    {
     "data": {
      "text/plain": [
       "Resource(id=u'55544720-70b9-4aae-b055-ef6111515514', revision_id=u'09be97c3-605f-4ca6-aa92-8940208b2b70', description=u'', format=u'application/rdf+xml', url=u'http://ieee.rkbexplorer.com/models/dump.tgz')"
      ]
     },
     "execution_count": 27,
     "metadata": {},
     "output_type": "execute_result"
    }
   ],
   "source": [
    "[x for x in resources if x.format == 'application/rdf+xml'][0]"
   ]
  },
  {
   "cell_type": "code",
   "execution_count": 28,
   "metadata": {
    "collapsed": false
   },
   "outputs": [
    {
     "ename": "ConnectionError",
     "evalue": "('Connection aborted.', gaierror(-2, 'Name or service not known'))",
     "output_type": "error",
     "traceback": [
      "\u001b[1;31m---------------------------------------------------------------------------\u001b[0m",
      "\u001b[1;31mConnectionError\u001b[0m                           Traceback (most recent call last)",
      "\u001b[1;32m<ipython-input-28-5bb5a1e83a90>\u001b[0m in \u001b[0;36m<module>\u001b[1;34m()\u001b[0m\n\u001b[1;32m----> 1\u001b[1;33m \u001b[0mdownload\u001b[0m \u001b[1;33m=\u001b[0m \u001b[0mrequests\u001b[0m\u001b[1;33m.\u001b[0m\u001b[0mget\u001b[0m\u001b[1;33m(\u001b[0m\u001b[0m_\u001b[0m\u001b[1;33m.\u001b[0m\u001b[0murl\u001b[0m\u001b[1;33m)\u001b[0m\u001b[1;33m\u001b[0m\u001b[0m\n\u001b[0m",
      "\u001b[1;32m/home/joao/.envs/py27/lib/python2.7/site-packages/requests/api.pyc\u001b[0m in \u001b[0;36mget\u001b[1;34m(url, **kwargs)\u001b[0m\n\u001b[0;32m     58\u001b[0m \u001b[1;33m\u001b[0m\u001b[0m\n\u001b[0;32m     59\u001b[0m     \u001b[0mkwargs\u001b[0m\u001b[1;33m.\u001b[0m\u001b[0msetdefault\u001b[0m\u001b[1;33m(\u001b[0m\u001b[1;34m'allow_redirects'\u001b[0m\u001b[1;33m,\u001b[0m \u001b[0mTrue\u001b[0m\u001b[1;33m)\u001b[0m\u001b[1;33m\u001b[0m\u001b[0m\n\u001b[1;32m---> 60\u001b[1;33m     \u001b[1;32mreturn\u001b[0m \u001b[0mrequest\u001b[0m\u001b[1;33m(\u001b[0m\u001b[1;34m'get'\u001b[0m\u001b[1;33m,\u001b[0m \u001b[0murl\u001b[0m\u001b[1;33m,\u001b[0m \u001b[1;33m**\u001b[0m\u001b[0mkwargs\u001b[0m\u001b[1;33m)\u001b[0m\u001b[1;33m\u001b[0m\u001b[0m\n\u001b[0m\u001b[0;32m     61\u001b[0m \u001b[1;33m\u001b[0m\u001b[0m\n\u001b[0;32m     62\u001b[0m \u001b[1;33m\u001b[0m\u001b[0m\n",
      "\u001b[1;32m/home/joao/.envs/py27/lib/python2.7/site-packages/requests/api.pyc\u001b[0m in \u001b[0;36mrequest\u001b[1;34m(method, url, **kwargs)\u001b[0m\n\u001b[0;32m     47\u001b[0m \u001b[1;33m\u001b[0m\u001b[0m\n\u001b[0;32m     48\u001b[0m     \u001b[0msession\u001b[0m \u001b[1;33m=\u001b[0m \u001b[0msessions\u001b[0m\u001b[1;33m.\u001b[0m\u001b[0mSession\u001b[0m\u001b[1;33m(\u001b[0m\u001b[1;33m)\u001b[0m\u001b[1;33m\u001b[0m\u001b[0m\n\u001b[1;32m---> 49\u001b[1;33m     \u001b[1;32mreturn\u001b[0m \u001b[0msession\u001b[0m\u001b[1;33m.\u001b[0m\u001b[0mrequest\u001b[0m\u001b[1;33m(\u001b[0m\u001b[0mmethod\u001b[0m\u001b[1;33m=\u001b[0m\u001b[0mmethod\u001b[0m\u001b[1;33m,\u001b[0m \u001b[0murl\u001b[0m\u001b[1;33m=\u001b[0m\u001b[0murl\u001b[0m\u001b[1;33m,\u001b[0m \u001b[1;33m**\u001b[0m\u001b[0mkwargs\u001b[0m\u001b[1;33m)\u001b[0m\u001b[1;33m\u001b[0m\u001b[0m\n\u001b[0m\u001b[0;32m     50\u001b[0m \u001b[1;33m\u001b[0m\u001b[0m\n\u001b[0;32m     51\u001b[0m \u001b[1;33m\u001b[0m\u001b[0m\n",
      "\u001b[1;32m/home/joao/.envs/py27/lib/python2.7/site-packages/requests/sessions.pyc\u001b[0m in \u001b[0;36mrequest\u001b[1;34m(self, method, url, params, data, headers, cookies, files, auth, timeout, allow_redirects, proxies, hooks, stream, verify, cert, json)\u001b[0m\n\u001b[0;32m    455\u001b[0m         }\n\u001b[0;32m    456\u001b[0m         \u001b[0msend_kwargs\u001b[0m\u001b[1;33m.\u001b[0m\u001b[0mupdate\u001b[0m\u001b[1;33m(\u001b[0m\u001b[0msettings\u001b[0m\u001b[1;33m)\u001b[0m\u001b[1;33m\u001b[0m\u001b[0m\n\u001b[1;32m--> 457\u001b[1;33m         \u001b[0mresp\u001b[0m \u001b[1;33m=\u001b[0m \u001b[0mself\u001b[0m\u001b[1;33m.\u001b[0m\u001b[0msend\u001b[0m\u001b[1;33m(\u001b[0m\u001b[0mprep\u001b[0m\u001b[1;33m,\u001b[0m \u001b[1;33m**\u001b[0m\u001b[0msend_kwargs\u001b[0m\u001b[1;33m)\u001b[0m\u001b[1;33m\u001b[0m\u001b[0m\n\u001b[0m\u001b[0;32m    458\u001b[0m \u001b[1;33m\u001b[0m\u001b[0m\n\u001b[0;32m    459\u001b[0m         \u001b[1;32mreturn\u001b[0m \u001b[0mresp\u001b[0m\u001b[1;33m\u001b[0m\u001b[0m\n",
      "\u001b[1;32m/home/joao/.envs/py27/lib/python2.7/site-packages/requests/sessions.pyc\u001b[0m in \u001b[0;36msend\u001b[1;34m(self, request, **kwargs)\u001b[0m\n\u001b[0;32m    567\u001b[0m \u001b[1;33m\u001b[0m\u001b[0m\n\u001b[0;32m    568\u001b[0m         \u001b[1;31m# Send the request\u001b[0m\u001b[1;33m\u001b[0m\u001b[1;33m\u001b[0m\u001b[0m\n\u001b[1;32m--> 569\u001b[1;33m         \u001b[0mr\u001b[0m \u001b[1;33m=\u001b[0m \u001b[0madapter\u001b[0m\u001b[1;33m.\u001b[0m\u001b[0msend\u001b[0m\u001b[1;33m(\u001b[0m\u001b[0mrequest\u001b[0m\u001b[1;33m,\u001b[0m \u001b[1;33m**\u001b[0m\u001b[0mkwargs\u001b[0m\u001b[1;33m)\u001b[0m\u001b[1;33m\u001b[0m\u001b[0m\n\u001b[0m\u001b[0;32m    570\u001b[0m \u001b[1;33m\u001b[0m\u001b[0m\n\u001b[0;32m    571\u001b[0m         \u001b[1;31m# Total elapsed time of the request (approximately)\u001b[0m\u001b[1;33m\u001b[0m\u001b[1;33m\u001b[0m\u001b[0m\n",
      "\u001b[1;32m/home/joao/.envs/py27/lib/python2.7/site-packages/requests/adapters.pyc\u001b[0m in \u001b[0;36msend\u001b[1;34m(self, request, stream, timeout, verify, cert, proxies)\u001b[0m\n\u001b[0;32m    405\u001b[0m \u001b[1;33m\u001b[0m\u001b[0m\n\u001b[0;32m    406\u001b[0m         \u001b[1;32mexcept\u001b[0m \u001b[1;33m(\u001b[0m\u001b[0mProtocolError\u001b[0m\u001b[1;33m,\u001b[0m \u001b[0msocket\u001b[0m\u001b[1;33m.\u001b[0m\u001b[0merror\u001b[0m\u001b[1;33m)\u001b[0m \u001b[1;32mas\u001b[0m \u001b[0merr\u001b[0m\u001b[1;33m:\u001b[0m\u001b[1;33m\u001b[0m\u001b[0m\n\u001b[1;32m--> 407\u001b[1;33m             \u001b[1;32mraise\u001b[0m \u001b[0mConnectionError\u001b[0m\u001b[1;33m(\u001b[0m\u001b[0merr\u001b[0m\u001b[1;33m,\u001b[0m \u001b[0mrequest\u001b[0m\u001b[1;33m=\u001b[0m\u001b[0mrequest\u001b[0m\u001b[1;33m)\u001b[0m\u001b[1;33m\u001b[0m\u001b[0m\n\u001b[0m\u001b[0;32m    408\u001b[0m \u001b[1;33m\u001b[0m\u001b[0m\n\u001b[0;32m    409\u001b[0m         \u001b[1;32mexcept\u001b[0m \u001b[0mMaxRetryError\u001b[0m \u001b[1;32mas\u001b[0m \u001b[0me\u001b[0m\u001b[1;33m:\u001b[0m\u001b[1;33m\u001b[0m\u001b[0m\n",
      "\u001b[1;31mConnectionError\u001b[0m: ('Connection aborted.', gaierror(-2, 'Name or service not known'))"
     ]
    }
   ],
   "source": [
    "download = requests.get(_.url)"
   ]
  },
  {
   "cell_type": "code",
   "execution_count": 29,
   "metadata": {
    "collapsed": false
   },
   "outputs": [
    {
     "ename": "ConnectionError",
     "evalue": "('Connection aborted.', gaierror(-2, 'Name or service not known'))",
     "output_type": "error",
     "traceback": [
      "\u001b[1;31m---------------------------------------------------------------------------\u001b[0m",
      "\u001b[1;31mConnectionError\u001b[0m                           Traceback (most recent call last)",
      "\u001b[1;32m<ipython-input-29-05d0607c1887>\u001b[0m in \u001b[0;36m<module>\u001b[1;34m()\u001b[0m\n\u001b[1;32m----> 1\u001b[1;33m \u001b[0mdownload\u001b[0m \u001b[1;33m=\u001b[0m \u001b[0mrequests\u001b[0m\u001b[1;33m.\u001b[0m\u001b[0mget\u001b[0m\u001b[1;33m(\u001b[0m\u001b[0m_26\u001b[0m\u001b[1;33m.\u001b[0m\u001b[0murl\u001b[0m\u001b[1;33m)\u001b[0m\u001b[1;33m\u001b[0m\u001b[0m\n\u001b[0m",
      "\u001b[1;32m/home/joao/.envs/py27/lib/python2.7/site-packages/requests/api.pyc\u001b[0m in \u001b[0;36mget\u001b[1;34m(url, **kwargs)\u001b[0m\n\u001b[0;32m     58\u001b[0m \u001b[1;33m\u001b[0m\u001b[0m\n\u001b[0;32m     59\u001b[0m     \u001b[0mkwargs\u001b[0m\u001b[1;33m.\u001b[0m\u001b[0msetdefault\u001b[0m\u001b[1;33m(\u001b[0m\u001b[1;34m'allow_redirects'\u001b[0m\u001b[1;33m,\u001b[0m \u001b[0mTrue\u001b[0m\u001b[1;33m)\u001b[0m\u001b[1;33m\u001b[0m\u001b[0m\n\u001b[1;32m---> 60\u001b[1;33m     \u001b[1;32mreturn\u001b[0m \u001b[0mrequest\u001b[0m\u001b[1;33m(\u001b[0m\u001b[1;34m'get'\u001b[0m\u001b[1;33m,\u001b[0m \u001b[0murl\u001b[0m\u001b[1;33m,\u001b[0m \u001b[1;33m**\u001b[0m\u001b[0mkwargs\u001b[0m\u001b[1;33m)\u001b[0m\u001b[1;33m\u001b[0m\u001b[0m\n\u001b[0m\u001b[0;32m     61\u001b[0m \u001b[1;33m\u001b[0m\u001b[0m\n\u001b[0;32m     62\u001b[0m \u001b[1;33m\u001b[0m\u001b[0m\n",
      "\u001b[1;32m/home/joao/.envs/py27/lib/python2.7/site-packages/requests/api.pyc\u001b[0m in \u001b[0;36mrequest\u001b[1;34m(method, url, **kwargs)\u001b[0m\n\u001b[0;32m     47\u001b[0m \u001b[1;33m\u001b[0m\u001b[0m\n\u001b[0;32m     48\u001b[0m     \u001b[0msession\u001b[0m \u001b[1;33m=\u001b[0m \u001b[0msessions\u001b[0m\u001b[1;33m.\u001b[0m\u001b[0mSession\u001b[0m\u001b[1;33m(\u001b[0m\u001b[1;33m)\u001b[0m\u001b[1;33m\u001b[0m\u001b[0m\n\u001b[1;32m---> 49\u001b[1;33m     \u001b[1;32mreturn\u001b[0m \u001b[0msession\u001b[0m\u001b[1;33m.\u001b[0m\u001b[0mrequest\u001b[0m\u001b[1;33m(\u001b[0m\u001b[0mmethod\u001b[0m\u001b[1;33m=\u001b[0m\u001b[0mmethod\u001b[0m\u001b[1;33m,\u001b[0m \u001b[0murl\u001b[0m\u001b[1;33m=\u001b[0m\u001b[0murl\u001b[0m\u001b[1;33m,\u001b[0m \u001b[1;33m**\u001b[0m\u001b[0mkwargs\u001b[0m\u001b[1;33m)\u001b[0m\u001b[1;33m\u001b[0m\u001b[0m\n\u001b[0m\u001b[0;32m     50\u001b[0m \u001b[1;33m\u001b[0m\u001b[0m\n\u001b[0;32m     51\u001b[0m \u001b[1;33m\u001b[0m\u001b[0m\n",
      "\u001b[1;32m/home/joao/.envs/py27/lib/python2.7/site-packages/requests/sessions.pyc\u001b[0m in \u001b[0;36mrequest\u001b[1;34m(self, method, url, params, data, headers, cookies, files, auth, timeout, allow_redirects, proxies, hooks, stream, verify, cert, json)\u001b[0m\n\u001b[0;32m    455\u001b[0m         }\n\u001b[0;32m    456\u001b[0m         \u001b[0msend_kwargs\u001b[0m\u001b[1;33m.\u001b[0m\u001b[0mupdate\u001b[0m\u001b[1;33m(\u001b[0m\u001b[0msettings\u001b[0m\u001b[1;33m)\u001b[0m\u001b[1;33m\u001b[0m\u001b[0m\n\u001b[1;32m--> 457\u001b[1;33m         \u001b[0mresp\u001b[0m \u001b[1;33m=\u001b[0m \u001b[0mself\u001b[0m\u001b[1;33m.\u001b[0m\u001b[0msend\u001b[0m\u001b[1;33m(\u001b[0m\u001b[0mprep\u001b[0m\u001b[1;33m,\u001b[0m \u001b[1;33m**\u001b[0m\u001b[0msend_kwargs\u001b[0m\u001b[1;33m)\u001b[0m\u001b[1;33m\u001b[0m\u001b[0m\n\u001b[0m\u001b[0;32m    458\u001b[0m \u001b[1;33m\u001b[0m\u001b[0m\n\u001b[0;32m    459\u001b[0m         \u001b[1;32mreturn\u001b[0m \u001b[0mresp\u001b[0m\u001b[1;33m\u001b[0m\u001b[0m\n",
      "\u001b[1;32m/home/joao/.envs/py27/lib/python2.7/site-packages/requests/sessions.pyc\u001b[0m in \u001b[0;36msend\u001b[1;34m(self, request, **kwargs)\u001b[0m\n\u001b[0;32m    567\u001b[0m \u001b[1;33m\u001b[0m\u001b[0m\n\u001b[0;32m    568\u001b[0m         \u001b[1;31m# Send the request\u001b[0m\u001b[1;33m\u001b[0m\u001b[1;33m\u001b[0m\u001b[0m\n\u001b[1;32m--> 569\u001b[1;33m         \u001b[0mr\u001b[0m \u001b[1;33m=\u001b[0m \u001b[0madapter\u001b[0m\u001b[1;33m.\u001b[0m\u001b[0msend\u001b[0m\u001b[1;33m(\u001b[0m\u001b[0mrequest\u001b[0m\u001b[1;33m,\u001b[0m \u001b[1;33m**\u001b[0m\u001b[0mkwargs\u001b[0m\u001b[1;33m)\u001b[0m\u001b[1;33m\u001b[0m\u001b[0m\n\u001b[0m\u001b[0;32m    570\u001b[0m \u001b[1;33m\u001b[0m\u001b[0m\n\u001b[0;32m    571\u001b[0m         \u001b[1;31m# Total elapsed time of the request (approximately)\u001b[0m\u001b[1;33m\u001b[0m\u001b[1;33m\u001b[0m\u001b[0m\n",
      "\u001b[1;32m/home/joao/.envs/py27/lib/python2.7/site-packages/requests/adapters.pyc\u001b[0m in \u001b[0;36msend\u001b[1;34m(self, request, stream, timeout, verify, cert, proxies)\u001b[0m\n\u001b[0;32m    405\u001b[0m \u001b[1;33m\u001b[0m\u001b[0m\n\u001b[0;32m    406\u001b[0m         \u001b[1;32mexcept\u001b[0m \u001b[1;33m(\u001b[0m\u001b[0mProtocolError\u001b[0m\u001b[1;33m,\u001b[0m \u001b[0msocket\u001b[0m\u001b[1;33m.\u001b[0m\u001b[0merror\u001b[0m\u001b[1;33m)\u001b[0m \u001b[1;32mas\u001b[0m \u001b[0merr\u001b[0m\u001b[1;33m:\u001b[0m\u001b[1;33m\u001b[0m\u001b[0m\n\u001b[1;32m--> 407\u001b[1;33m             \u001b[1;32mraise\u001b[0m \u001b[0mConnectionError\u001b[0m\u001b[1;33m(\u001b[0m\u001b[0merr\u001b[0m\u001b[1;33m,\u001b[0m \u001b[0mrequest\u001b[0m\u001b[1;33m=\u001b[0m\u001b[0mrequest\u001b[0m\u001b[1;33m)\u001b[0m\u001b[1;33m\u001b[0m\u001b[0m\n\u001b[0m\u001b[0;32m    408\u001b[0m \u001b[1;33m\u001b[0m\u001b[0m\n\u001b[0;32m    409\u001b[0m         \u001b[1;32mexcept\u001b[0m \u001b[0mMaxRetryError\u001b[0m \u001b[1;32mas\u001b[0m \u001b[0me\u001b[0m\u001b[1;33m:\u001b[0m\u001b[1;33m\u001b[0m\u001b[0m\n",
      "\u001b[1;31mConnectionError\u001b[0m: ('Connection aborted.', gaierror(-2, 'Name or service not known'))"
     ]
    }
   ],
   "source": [
    "download = requests.get(_26.url)"
   ]
  },
  {
   "cell_type": "markdown",
   "metadata": {},
   "source": [
    "### Links da ieee-rkbexplorer estão offline =/"
   ]
  },
  {
   "cell_type": "code",
   "execution_count": null,
   "metadata": {
    "collapsed": true
   },
   "outputs": [],
   "source": []
  }
 ],
 "metadata": {
  "kernelspec": {
   "display_name": "Python 2",
   "language": "python",
   "name": "python2"
  },
  "language_info": {
   "codemirror_mode": {
    "name": "ipython",
    "version": 2
   },
   "file_extension": ".py",
   "mimetype": "text/x-python",
   "name": "python",
   "nbconvert_exporter": "python",
   "pygments_lexer": "ipython2",
   "version": "2.7.10"
  }
 },
 "nbformat": 4,
 "nbformat_minor": 0
}
